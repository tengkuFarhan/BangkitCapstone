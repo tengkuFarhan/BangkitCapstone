{
  "metadata": {
    "kernelspec": {
      "language": "python",
      "display_name": "Python 3",
      "name": "python3"
    },
    "language_info": {
      "pygments_lexer": "ipython3",
      "nbconvert_exporter": "python",
      "version": "3.6.4",
      "file_extension": ".py",
      "codemirror_mode": {
        "name": "ipython",
        "version": 3
      },
      "name": "python",
      "mimetype": "text/x-python"
    },
    "colab": {
      "provenance": []
    }
  },
  "nbformat_minor": 0,
  "nbformat": 4,
  "cells": [
    {
      "cell_type": "code",
      "source": [
        "import numpy as np # linear algebra\n",
        "import pandas as pd # data processing, CSV file I/O (e.g. pd.read_csv)\n",
        "import os\n",
        "for dirname, _, filenames in os.walk(''):\n",
        "    for filename in filenames:\n",
        "        print(os.path.join(dirname, filename))\n",
        "import tensorflow as tf\n",
        "import pandas as pd\n",
        "from sklearn.preprocessing import MinMaxScaler\n",
        "from sklearn.model_selection import train_test_split"
      ],
      "metadata": {
        "_uuid": "8f2839f25d086af736a60e9eeb907d3b93b6e0e5",
        "_cell_guid": "b1076dfc-b9ad-4769-8c92-a6c4dae69d19",
        "execution": {
          "iopub.status.busy": "2023-05-05T06:31:49.66855Z",
          "iopub.execute_input": "2023-05-05T06:31:49.668939Z",
          "iopub.status.idle": "2023-05-05T06:31:49.701524Z",
          "shell.execute_reply.started": "2023-05-05T06:31:49.668904Z",
          "shell.execute_reply": "2023-05-05T06:31:49.700787Z"
        },
        "trusted": true,
        "id": "rtKqXmvWR6Ny"
      },
      "execution_count": null,
      "outputs": []
    },
    {
      "cell_type": "code",
      "source": [
        "data = pd.read_csv('data_tanaman.csv')\n",
        "data.head()"
      ],
      "metadata": {
        "id": "fb7WmgrLzU2w"
      },
      "execution_count": null,
      "outputs": []
    },
    {
      "cell_type": "code",
      "source": [
        "classes = data['label'].unique()\n",
        "classes\n",
        "numClasses = len(classes)\n",
        "numClasses"
      ],
      "metadata": {
        "execution": {
          "iopub.status.busy": "2023-05-05T06:41:54.907629Z",
          "iopub.execute_input": "2023-05-05T06:41:54.907967Z",
          "iopub.status.idle": "2023-05-05T06:41:54.915338Z",
          "shell.execute_reply.started": "2023-05-05T06:41:54.907941Z",
          "shell.execute_reply": "2023-05-05T06:41:54.914343Z"
        },
        "trusted": true,
        "colab": {
          "base_uri": "https://localhost:8080/"
        },
        "id": "_R8j0lnYR6N4",
        "outputId": "3c5dbf99-e58d-4e6e-a20e-1f4ae288b87e"
      },
      "execution_count": 6,
      "outputs": [
        {
          "output_type": "execute_result",
          "data": {
            "text/plain": [
              "array(['beras', 'jagung', 'buncis', 'kacangmerah', 'kacanggude',\n",
              "       'kacangngengat', 'kacanghijau', 'gramhitam', 'lentil', 'delima',\n",
              "       'pisang', 'mangga', 'anggur', 'semangka', 'melon musk', 'apel',\n",
              "       'jeruk', 'pepaya', 'kelapa', 'katun', 'rami', 'kopi'], dtype=object)"
            ]
          },
          "metadata": {},
          "execution_count": 6
        }
      ]
    },
    {
      "cell_type": "code",
      "source": [
        "#One Hot Encoded Target\n",
        "target = pd.get_dummies(data['label'])\n",
        "\n",
        "#Reading the input\n",
        "features = data.drop(columns = ['label'])\n",
        "features"
      ],
      "metadata": {
        "execution": {
          "iopub.status.busy": "2023-05-05T06:44:27.807592Z",
          "iopub.execute_input": "2023-05-05T06:44:27.807924Z",
          "iopub.status.idle": "2023-05-05T06:44:27.815152Z",
          "shell.execute_reply.started": "2023-05-05T06:44:27.807897Z",
          "shell.execute_reply": "2023-05-05T06:44:27.814275Z"
        },
        "trusted": true,
        "id": "0b3bj1x5R6N4"
      },
      "execution_count": 8,
      "outputs": []
    },
    {
      "cell_type": "code",
      "source": [],
      "metadata": {
        "execution": {
          "iopub.status.busy": "2023-05-05T06:46:22.323428Z",
          "iopub.execute_input": "2023-05-05T06:46:22.323958Z",
          "iopub.status.idle": "2023-05-05T06:46:22.33878Z",
          "shell.execute_reply.started": "2023-05-05T06:46:22.323927Z",
          "shell.execute_reply": "2023-05-05T06:46:22.337696Z"
        },
        "trusted": true,
        "colab": {
          "base_uri": "https://localhost:8080/",
          "height": 423
        },
        "id": "XoiYHVwIR6N5",
        "outputId": "a196bb59-87c8-4cc5-fa53-73c14c86fd01"
      },
      "execution_count": 9,
      "outputs": [
        {
          "output_type": "execute_result",
          "data": {
            "text/plain": [
              "        N   P   K  temperature   humidity        ph    rainfall\n",
              "0      90  42  43    20.879744  82.002744  6.502985  202.935536\n",
              "1      85  58  41    21.770462  80.319644  7.038096  226.655537\n",
              "2      60  55  44    23.004459  82.320763  7.840207  263.964248\n",
              "3      74  35  40    26.491096  80.158363  6.980401  242.864034\n",
              "4      78  42  42    20.130175  81.604873  7.628473  262.717340\n",
              "...   ...  ..  ..          ...        ...       ...         ...\n",
              "2195  107  34  32    26.774637  66.413269  6.780064  177.774507\n",
              "2196   99  15  27    27.417112  56.636362  6.086922  127.924610\n",
              "2197  118  33  30    24.131797  67.225123  6.362608  173.322839\n",
              "2198  117  32  34    26.272418  52.127394  6.758793  127.175293\n",
              "2199  104  18  30    23.603016  60.396475  6.779833  140.937041\n",
              "\n",
              "[2200 rows x 7 columns]"
            ],
            "text/html": [
              "\n",
              "  <div id=\"df-470f03c5-315e-49a4-852a-7b5abf19f0e5\">\n",
              "    <div class=\"colab-df-container\">\n",
              "      <div>\n",
              "<style scoped>\n",
              "    .dataframe tbody tr th:only-of-type {\n",
              "        vertical-align: middle;\n",
              "    }\n",
              "\n",
              "    .dataframe tbody tr th {\n",
              "        vertical-align: top;\n",
              "    }\n",
              "\n",
              "    .dataframe thead th {\n",
              "        text-align: right;\n",
              "    }\n",
              "</style>\n",
              "<table border=\"1\" class=\"dataframe\">\n",
              "  <thead>\n",
              "    <tr style=\"text-align: right;\">\n",
              "      <th></th>\n",
              "      <th>N</th>\n",
              "      <th>P</th>\n",
              "      <th>K</th>\n",
              "      <th>temperature</th>\n",
              "      <th>humidity</th>\n",
              "      <th>ph</th>\n",
              "      <th>rainfall</th>\n",
              "    </tr>\n",
              "  </thead>\n",
              "  <tbody>\n",
              "    <tr>\n",
              "      <th>0</th>\n",
              "      <td>90</td>\n",
              "      <td>42</td>\n",
              "      <td>43</td>\n",
              "      <td>20.879744</td>\n",
              "      <td>82.002744</td>\n",
              "      <td>6.502985</td>\n",
              "      <td>202.935536</td>\n",
              "    </tr>\n",
              "    <tr>\n",
              "      <th>1</th>\n",
              "      <td>85</td>\n",
              "      <td>58</td>\n",
              "      <td>41</td>\n",
              "      <td>21.770462</td>\n",
              "      <td>80.319644</td>\n",
              "      <td>7.038096</td>\n",
              "      <td>226.655537</td>\n",
              "    </tr>\n",
              "    <tr>\n",
              "      <th>2</th>\n",
              "      <td>60</td>\n",
              "      <td>55</td>\n",
              "      <td>44</td>\n",
              "      <td>23.004459</td>\n",
              "      <td>82.320763</td>\n",
              "      <td>7.840207</td>\n",
              "      <td>263.964248</td>\n",
              "    </tr>\n",
              "    <tr>\n",
              "      <th>3</th>\n",
              "      <td>74</td>\n",
              "      <td>35</td>\n",
              "      <td>40</td>\n",
              "      <td>26.491096</td>\n",
              "      <td>80.158363</td>\n",
              "      <td>6.980401</td>\n",
              "      <td>242.864034</td>\n",
              "    </tr>\n",
              "    <tr>\n",
              "      <th>4</th>\n",
              "      <td>78</td>\n",
              "      <td>42</td>\n",
              "      <td>42</td>\n",
              "      <td>20.130175</td>\n",
              "      <td>81.604873</td>\n",
              "      <td>7.628473</td>\n",
              "      <td>262.717340</td>\n",
              "    </tr>\n",
              "    <tr>\n",
              "      <th>...</th>\n",
              "      <td>...</td>\n",
              "      <td>...</td>\n",
              "      <td>...</td>\n",
              "      <td>...</td>\n",
              "      <td>...</td>\n",
              "      <td>...</td>\n",
              "      <td>...</td>\n",
              "    </tr>\n",
              "    <tr>\n",
              "      <th>2195</th>\n",
              "      <td>107</td>\n",
              "      <td>34</td>\n",
              "      <td>32</td>\n",
              "      <td>26.774637</td>\n",
              "      <td>66.413269</td>\n",
              "      <td>6.780064</td>\n",
              "      <td>177.774507</td>\n",
              "    </tr>\n",
              "    <tr>\n",
              "      <th>2196</th>\n",
              "      <td>99</td>\n",
              "      <td>15</td>\n",
              "      <td>27</td>\n",
              "      <td>27.417112</td>\n",
              "      <td>56.636362</td>\n",
              "      <td>6.086922</td>\n",
              "      <td>127.924610</td>\n",
              "    </tr>\n",
              "    <tr>\n",
              "      <th>2197</th>\n",
              "      <td>118</td>\n",
              "      <td>33</td>\n",
              "      <td>30</td>\n",
              "      <td>24.131797</td>\n",
              "      <td>67.225123</td>\n",
              "      <td>6.362608</td>\n",
              "      <td>173.322839</td>\n",
              "    </tr>\n",
              "    <tr>\n",
              "      <th>2198</th>\n",
              "      <td>117</td>\n",
              "      <td>32</td>\n",
              "      <td>34</td>\n",
              "      <td>26.272418</td>\n",
              "      <td>52.127394</td>\n",
              "      <td>6.758793</td>\n",
              "      <td>127.175293</td>\n",
              "    </tr>\n",
              "    <tr>\n",
              "      <th>2199</th>\n",
              "      <td>104</td>\n",
              "      <td>18</td>\n",
              "      <td>30</td>\n",
              "      <td>23.603016</td>\n",
              "      <td>60.396475</td>\n",
              "      <td>6.779833</td>\n",
              "      <td>140.937041</td>\n",
              "    </tr>\n",
              "  </tbody>\n",
              "</table>\n",
              "<p>2200 rows × 7 columns</p>\n",
              "</div>\n",
              "      <button class=\"colab-df-convert\" onclick=\"convertToInteractive('df-470f03c5-315e-49a4-852a-7b5abf19f0e5')\"\n",
              "              title=\"Convert this dataframe to an interactive table.\"\n",
              "              style=\"display:none;\">\n",
              "        \n",
              "  <svg xmlns=\"http://www.w3.org/2000/svg\" height=\"24px\"viewBox=\"0 0 24 24\"\n",
              "       width=\"24px\">\n",
              "    <path d=\"M0 0h24v24H0V0z\" fill=\"none\"/>\n",
              "    <path d=\"M18.56 5.44l.94 2.06.94-2.06 2.06-.94-2.06-.94-.94-2.06-.94 2.06-2.06.94zm-11 1L8.5 8.5l.94-2.06 2.06-.94-2.06-.94L8.5 2.5l-.94 2.06-2.06.94zm10 10l.94 2.06.94-2.06 2.06-.94-2.06-.94-.94-2.06-.94 2.06-2.06.94z\"/><path d=\"M17.41 7.96l-1.37-1.37c-.4-.4-.92-.59-1.43-.59-.52 0-1.04.2-1.43.59L10.3 9.45l-7.72 7.72c-.78.78-.78 2.05 0 2.83L4 21.41c.39.39.9.59 1.41.59.51 0 1.02-.2 1.41-.59l7.78-7.78 2.81-2.81c.8-.78.8-2.07 0-2.86zM5.41 20L4 18.59l7.72-7.72 1.47 1.35L5.41 20z\"/>\n",
              "  </svg>\n",
              "      </button>\n",
              "      \n",
              "  <style>\n",
              "    .colab-df-container {\n",
              "      display:flex;\n",
              "      flex-wrap:wrap;\n",
              "      gap: 12px;\n",
              "    }\n",
              "\n",
              "    .colab-df-convert {\n",
              "      background-color: #E8F0FE;\n",
              "      border: none;\n",
              "      border-radius: 50%;\n",
              "      cursor: pointer;\n",
              "      display: none;\n",
              "      fill: #1967D2;\n",
              "      height: 32px;\n",
              "      padding: 0 0 0 0;\n",
              "      width: 32px;\n",
              "    }\n",
              "\n",
              "    .colab-df-convert:hover {\n",
              "      background-color: #E2EBFA;\n",
              "      box-shadow: 0px 1px 2px rgba(60, 64, 67, 0.3), 0px 1px 3px 1px rgba(60, 64, 67, 0.15);\n",
              "      fill: #174EA6;\n",
              "    }\n",
              "\n",
              "    [theme=dark] .colab-df-convert {\n",
              "      background-color: #3B4455;\n",
              "      fill: #D2E3FC;\n",
              "    }\n",
              "\n",
              "    [theme=dark] .colab-df-convert:hover {\n",
              "      background-color: #434B5C;\n",
              "      box-shadow: 0px 1px 3px 1px rgba(0, 0, 0, 0.15);\n",
              "      filter: drop-shadow(0px 1px 2px rgba(0, 0, 0, 0.3));\n",
              "      fill: #FFFFFF;\n",
              "    }\n",
              "  </style>\n",
              "\n",
              "      <script>\n",
              "        const buttonEl =\n",
              "          document.querySelector('#df-470f03c5-315e-49a4-852a-7b5abf19f0e5 button.colab-df-convert');\n",
              "        buttonEl.style.display =\n",
              "          google.colab.kernel.accessAllowed ? 'block' : 'none';\n",
              "\n",
              "        async function convertToInteractive(key) {\n",
              "          const element = document.querySelector('#df-470f03c5-315e-49a4-852a-7b5abf19f0e5');\n",
              "          const dataTable =\n",
              "            await google.colab.kernel.invokeFunction('convertToInteractive',\n",
              "                                                     [key], {});\n",
              "          if (!dataTable) return;\n",
              "\n",
              "          const docLinkHtml = 'Like what you see? Visit the ' +\n",
              "            '<a target=\"_blank\" href=https://colab.research.google.com/notebooks/data_table.ipynb>data table notebook</a>'\n",
              "            + ' to learn more about interactive tables.';\n",
              "          element.innerHTML = '';\n",
              "          dataTable['output_type'] = 'display_data';\n",
              "          await google.colab.output.renderOutput(dataTable, element);\n",
              "          const docLink = document.createElement('div');\n",
              "          docLink.innerHTML = docLinkHtml;\n",
              "          element.appendChild(docLink);\n",
              "        }\n",
              "      </script>\n",
              "    </div>\n",
              "  </div>\n",
              "  "
            ]
          },
          "metadata": {},
          "execution_count": 9
        }
      ]
    },
    {
      "cell_type": "code",
      "source": [
        "# Splitting Data\n",
        "x_train, x_test, y_train, y_test = train_test_split(features, target, random_state = 42, test_size = 0.2)"
      ],
      "metadata": {
        "execution": {
          "iopub.status.busy": "2023-05-05T06:49:28.705785Z",
          "iopub.execute_input": "2023-05-05T06:49:28.706132Z",
          "iopub.status.idle": "2023-05-05T06:49:28.715155Z",
          "shell.execute_reply.started": "2023-05-05T06:49:28.706103Z",
          "shell.execute_reply": "2023-05-05T06:49:28.714205Z"
        },
        "trusted": true,
        "id": "1GweCA1gR6N5"
      },
      "execution_count": 10,
      "outputs": []
    },
    {
      "cell_type": "code",
      "source": [
        "# Scaling Data\n",
        "scaler = MinMaxScaler()\n",
        "x_train = scaler.fit_transform(x_train)\n",
        "x_test = scaler.transform(x_test)"
      ],
      "metadata": {
        "execution": {
          "iopub.status.busy": "2023-05-05T06:50:29.735602Z",
          "iopub.execute_input": "2023-05-05T06:50:29.735955Z",
          "iopub.status.idle": "2023-05-05T06:50:29.746177Z",
          "shell.execute_reply.started": "2023-05-05T06:50:29.735927Z",
          "shell.execute_reply": "2023-05-05T06:50:29.745299Z"
        },
        "trusted": true,
        "id": "WuqPvfXCR6N6"
      },
      "execution_count": 11,
      "outputs": []
    },
    {
      "cell_type": "code",
      "source": [
        "# Data Dimension\n",
        "print(x_train.shape)\n",
        "print(y_train.shape)\n",
        "print(x_test.shape)\n",
        "print(y_test.shape)"
      ],
      "metadata": {
        "execution": {
          "iopub.status.busy": "2023-05-05T06:52:31.850395Z",
          "iopub.execute_input": "2023-05-05T06:52:31.850832Z",
          "iopub.status.idle": "2023-05-05T06:52:31.857545Z",
          "shell.execute_reply.started": "2023-05-05T06:52:31.850796Z",
          "shell.execute_reply": "2023-05-05T06:52:31.856621Z"
        },
        "trusted": true,
        "colab": {
          "base_uri": "https://localhost:8080/"
        },
        "id": "NDD47A0xR6N6",
        "outputId": "7d69263e-5df8-4ae5-f8ed-d85cd878f9a8"
      },
      "execution_count": 31,
      "outputs": [
        {
          "output_type": "stream",
          "name": "stdout",
          "text": [
            "(1760, 7)\n",
            "(1760, 22)\n",
            "(440, 7)\n",
            "(440, 22)\n"
          ]
        }
      ]
    },
    {
      "cell_type": "code",
      "source": [
        "# Model\n",
        "model = tf.keras.models.Sequential([\n",
        "    tf.keras.layers.Dense(1000, activation = 'relu', input_shape = (7,)),\n",
        "    tf.keras.layers.Dense(500, activation = 'relu'),\n",
        "    tf.keras.layers.Dense(numClasses, activation = 'softmax')\n",
        "])\n",
        "\n",
        "# Compile\n",
        "model.compile(\n",
        "    loss = tf.keras.losses.CategoricalCrossentropy(),\n",
        "    optimizer = tf.keras.optimizers.Adam(),\n",
        "    metrics = ['accuracy']\n",
        ")\n",
        "\n",
        "model.summary()"
      ],
      "metadata": {
        "execution": {
          "iopub.status.busy": "2023-05-05T06:59:35.695768Z",
          "iopub.execute_input": "2023-05-05T06:59:35.696126Z",
          "iopub.status.idle": "2023-05-05T06:59:35.756069Z",
          "shell.execute_reply.started": "2023-05-05T06:59:35.696097Z",
          "shell.execute_reply": "2023-05-05T06:59:35.755216Z"
        },
        "trusted": true,
        "id": "c0ZKarD-R6N6",
        "colab": {
          "base_uri": "https://localhost:8080/"
        },
        "outputId": "a7347715-71c4-4acd-dd89-e063c9b58b5b"
      },
      "execution_count": 34,
      "outputs": [
        {
          "output_type": "stream",
          "name": "stdout",
          "text": [
            "Model: \"sequential_3\"\n",
            "_________________________________________________________________\n",
            " Layer (type)                Output Shape              Param #   \n",
            "=================================================================\n",
            " dense_10 (Dense)            (None, 1000)              8000      \n",
            "                                                                 \n",
            " dense_11 (Dense)            (None, 500)               500500    \n",
            "                                                                 \n",
            " dense_12 (Dense)            (None, 22)                11022     \n",
            "                                                                 \n",
            "=================================================================\n",
            "Total params: 519,522\n",
            "Trainable params: 519,522\n",
            "Non-trainable params: 0\n",
            "_________________________________________________________________\n"
          ]
        }
      ]
    },
    {
      "cell_type": "code",
      "source": [
        "model.fit(x_train, y_train, epochs = 100, \n",
        "          validation_data = (x_test, y_test), batch_size = 32)"
      ],
      "metadata": {
        "execution": {
          "iopub.status.busy": "2023-05-05T07:00:12.104985Z",
          "iopub.execute_input": "2023-05-05T07:00:12.106022Z",
          "iopub.status.idle": "2023-05-05T07:00:17.280364Z",
          "shell.execute_reply.started": "2023-05-05T07:00:12.105979Z",
          "shell.execute_reply": "2023-05-05T07:00:17.2795Z"
        },
        "trusted": true,
        "colab": {
          "base_uri": "https://localhost:8080/"
        },
        "id": "xTHRpLkAR6N8",
        "outputId": "9e400657-d46f-423f-aeae-e945d02f3082"
      },
      "execution_count": 38,
      "outputs": [
        {
          "output_type": "stream",
          "name": "stdout",
          "text": [
            "Epoch 1/100\n",
            "55/55 [==============================] - 1s 12ms/step - loss: 0.0313 - accuracy: 0.9864 - val_loss: 0.0879 - val_accuracy: 0.9682\n",
            "Epoch 2/100\n",
            "55/55 [==============================] - 1s 11ms/step - loss: 0.0263 - accuracy: 0.9892 - val_loss: 0.0673 - val_accuracy: 0.9773\n",
            "Epoch 3/100\n",
            "55/55 [==============================] - 1s 11ms/step - loss: 0.0241 - accuracy: 0.9903 - val_loss: 0.0585 - val_accuracy: 0.9795\n",
            "Epoch 4/100\n",
            "55/55 [==============================] - 1s 11ms/step - loss: 0.0542 - accuracy: 0.9801 - val_loss: 0.0886 - val_accuracy: 0.9727\n",
            "Epoch 5/100\n",
            "55/55 [==============================] - 1s 11ms/step - loss: 0.0234 - accuracy: 0.9915 - val_loss: 0.0772 - val_accuracy: 0.9727\n",
            "Epoch 6/100\n",
            "55/55 [==============================] - 1s 11ms/step - loss: 0.0162 - accuracy: 0.9920 - val_loss: 0.0775 - val_accuracy: 0.9705\n",
            "Epoch 7/100\n",
            "55/55 [==============================] - 1s 12ms/step - loss: 0.0201 - accuracy: 0.9903 - val_loss: 0.0829 - val_accuracy: 0.9750\n",
            "Epoch 8/100\n",
            "55/55 [==============================] - 1s 11ms/step - loss: 0.0219 - accuracy: 0.9909 - val_loss: 0.0928 - val_accuracy: 0.9659\n",
            "Epoch 9/100\n",
            "55/55 [==============================] - 1s 11ms/step - loss: 0.0206 - accuracy: 0.9926 - val_loss: 0.0694 - val_accuracy: 0.9773\n",
            "Epoch 10/100\n",
            "55/55 [==============================] - 1s 11ms/step - loss: 0.0221 - accuracy: 0.9903 - val_loss: 0.0593 - val_accuracy: 0.9773\n",
            "Epoch 11/100\n",
            "55/55 [==============================] - 1s 11ms/step - loss: 0.0159 - accuracy: 0.9937 - val_loss: 0.0650 - val_accuracy: 0.9773\n",
            "Epoch 12/100\n",
            "55/55 [==============================] - 1s 11ms/step - loss: 0.0185 - accuracy: 0.9932 - val_loss: 0.0851 - val_accuracy: 0.9727\n",
            "Epoch 13/100\n",
            "55/55 [==============================] - 1s 11ms/step - loss: 0.0223 - accuracy: 0.9909 - val_loss: 0.1473 - val_accuracy: 0.9614\n",
            "Epoch 14/100\n",
            "55/55 [==============================] - 1s 14ms/step - loss: 0.0614 - accuracy: 0.9807 - val_loss: 0.0770 - val_accuracy: 0.9818\n",
            "Epoch 15/100\n",
            "55/55 [==============================] - 1s 17ms/step - loss: 0.0374 - accuracy: 0.9869 - val_loss: 0.1294 - val_accuracy: 0.9568\n",
            "Epoch 16/100\n",
            "55/55 [==============================] - 1s 19ms/step - loss: 0.0178 - accuracy: 0.9932 - val_loss: 0.1266 - val_accuracy: 0.9636\n",
            "Epoch 17/100\n",
            "55/55 [==============================] - 1s 15ms/step - loss: 0.0154 - accuracy: 0.9949 - val_loss: 0.0657 - val_accuracy: 0.9795\n",
            "Epoch 18/100\n",
            "55/55 [==============================] - 1s 11ms/step - loss: 0.0190 - accuracy: 0.9915 - val_loss: 0.0642 - val_accuracy: 0.9773\n",
            "Epoch 19/100\n",
            "55/55 [==============================] - 1s 12ms/step - loss: 0.0148 - accuracy: 0.9949 - val_loss: 0.0677 - val_accuracy: 0.9773\n",
            "Epoch 20/100\n",
            "55/55 [==============================] - 1s 11ms/step - loss: 0.0182 - accuracy: 0.9920 - val_loss: 0.1525 - val_accuracy: 0.9523\n",
            "Epoch 21/100\n",
            "55/55 [==============================] - 1s 10ms/step - loss: 0.0365 - accuracy: 0.9852 - val_loss: 0.0684 - val_accuracy: 0.9773\n",
            "Epoch 22/100\n",
            "55/55 [==============================] - 1s 12ms/step - loss: 0.0377 - accuracy: 0.9864 - val_loss: 0.0872 - val_accuracy: 0.9705\n",
            "Epoch 23/100\n",
            "55/55 [==============================] - 1s 11ms/step - loss: 0.0353 - accuracy: 0.9835 - val_loss: 0.1082 - val_accuracy: 0.9636\n",
            "Epoch 24/100\n",
            "55/55 [==============================] - 1s 12ms/step - loss: 0.0631 - accuracy: 0.9795 - val_loss: 0.0889 - val_accuracy: 0.9750\n",
            "Epoch 25/100\n",
            "55/55 [==============================] - 1s 11ms/step - loss: 0.0304 - accuracy: 0.9881 - val_loss: 0.0592 - val_accuracy: 0.9795\n",
            "Epoch 26/100\n",
            "55/55 [==============================] - 1s 11ms/step - loss: 0.0319 - accuracy: 0.9852 - val_loss: 0.1531 - val_accuracy: 0.9455\n",
            "Epoch 27/100\n",
            "55/55 [==============================] - 1s 12ms/step - loss: 0.0671 - accuracy: 0.9807 - val_loss: 0.0898 - val_accuracy: 0.9727\n",
            "Epoch 28/100\n",
            "55/55 [==============================] - 1s 11ms/step - loss: 0.0191 - accuracy: 0.9926 - val_loss: 0.0489 - val_accuracy: 0.9818\n",
            "Epoch 29/100\n",
            "55/55 [==============================] - 1s 11ms/step - loss: 0.0228 - accuracy: 0.9903 - val_loss: 0.0955 - val_accuracy: 0.9614\n",
            "Epoch 30/100\n",
            "55/55 [==============================] - 1s 11ms/step - loss: 0.0227 - accuracy: 0.9886 - val_loss: 0.0666 - val_accuracy: 0.9727\n",
            "Epoch 31/100\n",
            "55/55 [==============================] - 1s 11ms/step - loss: 0.0166 - accuracy: 0.9937 - val_loss: 0.0603 - val_accuracy: 0.9773\n",
            "Epoch 32/100\n",
            "55/55 [==============================] - 1s 11ms/step - loss: 0.0189 - accuracy: 0.9920 - val_loss: 0.0713 - val_accuracy: 0.9682\n",
            "Epoch 33/100\n",
            "55/55 [==============================] - 1s 14ms/step - loss: 0.0154 - accuracy: 0.9932 - val_loss: 0.0764 - val_accuracy: 0.9795\n",
            "Epoch 34/100\n",
            "55/55 [==============================] - 1s 17ms/step - loss: 0.0120 - accuracy: 0.9955 - val_loss: 0.0478 - val_accuracy: 0.9841\n",
            "Epoch 35/100\n",
            "55/55 [==============================] - 1s 18ms/step - loss: 0.0154 - accuracy: 0.9937 - val_loss: 0.0561 - val_accuracy: 0.9795\n",
            "Epoch 36/100\n",
            "55/55 [==============================] - 1s 15ms/step - loss: 0.0133 - accuracy: 0.9926 - val_loss: 0.0601 - val_accuracy: 0.9795\n",
            "Epoch 37/100\n",
            "55/55 [==============================] - 1s 11ms/step - loss: 0.0173 - accuracy: 0.9920 - val_loss: 0.0538 - val_accuracy: 0.9795\n",
            "Epoch 38/100\n",
            "55/55 [==============================] - 1s 11ms/step - loss: 0.0198 - accuracy: 0.9909 - val_loss: 0.0539 - val_accuracy: 0.9795\n",
            "Epoch 39/100\n",
            "55/55 [==============================] - 1s 11ms/step - loss: 0.0139 - accuracy: 0.9926 - val_loss: 0.0588 - val_accuracy: 0.9795\n",
            "Epoch 40/100\n",
            "55/55 [==============================] - 1s 11ms/step - loss: 0.0206 - accuracy: 0.9898 - val_loss: 0.0704 - val_accuracy: 0.9818\n",
            "Epoch 41/100\n",
            "55/55 [==============================] - 1s 12ms/step - loss: 0.0363 - accuracy: 0.9875 - val_loss: 0.1369 - val_accuracy: 0.9523\n",
            "Epoch 42/100\n",
            "55/55 [==============================] - 1s 12ms/step - loss: 0.0185 - accuracy: 0.9920 - val_loss: 0.0702 - val_accuracy: 0.9795\n",
            "Epoch 43/100\n",
            "55/55 [==============================] - 1s 11ms/step - loss: 0.0135 - accuracy: 0.9937 - val_loss: 0.0740 - val_accuracy: 0.9773\n",
            "Epoch 44/100\n",
            "55/55 [==============================] - 1s 11ms/step - loss: 0.0189 - accuracy: 0.9937 - val_loss: 0.0727 - val_accuracy: 0.9727\n",
            "Epoch 45/100\n",
            "55/55 [==============================] - 1s 11ms/step - loss: 0.0181 - accuracy: 0.9937 - val_loss: 0.0606 - val_accuracy: 0.9818\n",
            "Epoch 46/100\n",
            "55/55 [==============================] - 1s 11ms/step - loss: 0.0174 - accuracy: 0.9920 - val_loss: 0.1227 - val_accuracy: 0.9636\n",
            "Epoch 47/100\n",
            "55/55 [==============================] - 1s 11ms/step - loss: 0.0456 - accuracy: 0.9835 - val_loss: 0.2060 - val_accuracy: 0.9500\n",
            "Epoch 48/100\n",
            "55/55 [==============================] - 1s 11ms/step - loss: 0.0190 - accuracy: 0.9909 - val_loss: 0.0778 - val_accuracy: 0.9818\n",
            "Epoch 49/100\n",
            "55/55 [==============================] - 1s 11ms/step - loss: 0.0148 - accuracy: 0.9915 - val_loss: 0.0750 - val_accuracy: 0.9773\n",
            "Epoch 50/100\n",
            "55/55 [==============================] - 1s 11ms/step - loss: 0.0238 - accuracy: 0.9886 - val_loss: 0.0563 - val_accuracy: 0.9818\n",
            "Epoch 51/100\n",
            "55/55 [==============================] - 1s 11ms/step - loss: 0.0181 - accuracy: 0.9903 - val_loss: 0.0956 - val_accuracy: 0.9750\n",
            "Epoch 52/100\n",
            "55/55 [==============================] - 1s 14ms/step - loss: 0.0487 - accuracy: 0.9841 - val_loss: 0.1378 - val_accuracy: 0.9682\n",
            "Epoch 53/100\n",
            "55/55 [==============================] - 1s 19ms/step - loss: 0.0285 - accuracy: 0.9886 - val_loss: 0.1011 - val_accuracy: 0.9614\n",
            "Epoch 54/100\n",
            "55/55 [==============================] - 1s 19ms/step - loss: 0.0560 - accuracy: 0.9784 - val_loss: 0.1309 - val_accuracy: 0.9523\n",
            "Epoch 55/100\n",
            "55/55 [==============================] - 1s 13ms/step - loss: 0.0271 - accuracy: 0.9875 - val_loss: 0.0506 - val_accuracy: 0.9795\n",
            "Epoch 56/100\n",
            "55/55 [==============================] - 1s 12ms/step - loss: 0.0173 - accuracy: 0.9909 - val_loss: 0.0323 - val_accuracy: 0.9886\n",
            "Epoch 57/100\n",
            "55/55 [==============================] - 1s 11ms/step - loss: 0.0135 - accuracy: 0.9937 - val_loss: 0.0889 - val_accuracy: 0.9750\n",
            "Epoch 58/100\n",
            "55/55 [==============================] - 1s 12ms/step - loss: 0.0174 - accuracy: 0.9915 - val_loss: 0.0849 - val_accuracy: 0.9705\n",
            "Epoch 59/100\n",
            "55/55 [==============================] - 1s 11ms/step - loss: 0.0155 - accuracy: 0.9932 - val_loss: 0.0545 - val_accuracy: 0.9773\n",
            "Epoch 60/100\n",
            "55/55 [==============================] - 1s 12ms/step - loss: 0.0134 - accuracy: 0.9926 - val_loss: 0.0697 - val_accuracy: 0.9773\n",
            "Epoch 61/100\n",
            "55/55 [==============================] - 1s 12ms/step - loss: 0.0136 - accuracy: 0.9937 - val_loss: 0.0534 - val_accuracy: 0.9818\n",
            "Epoch 62/100\n",
            "55/55 [==============================] - 1s 11ms/step - loss: 0.0193 - accuracy: 0.9915 - val_loss: 0.0953 - val_accuracy: 0.9659\n",
            "Epoch 63/100\n",
            "55/55 [==============================] - 1s 11ms/step - loss: 0.0180 - accuracy: 0.9943 - val_loss: 0.0540 - val_accuracy: 0.9750\n",
            "Epoch 64/100\n",
            "55/55 [==============================] - 1s 11ms/step - loss: 0.0213 - accuracy: 0.9898 - val_loss: 0.1135 - val_accuracy: 0.9705\n",
            "Epoch 65/100\n",
            "55/55 [==============================] - 1s 12ms/step - loss: 0.0204 - accuracy: 0.9915 - val_loss: 0.0549 - val_accuracy: 0.9773\n",
            "Epoch 66/100\n",
            "55/55 [==============================] - 1s 11ms/step - loss: 0.0356 - accuracy: 0.9898 - val_loss: 0.1323 - val_accuracy: 0.9705\n",
            "Epoch 67/100\n",
            "55/55 [==============================] - 1s 11ms/step - loss: 0.0223 - accuracy: 0.9920 - val_loss: 0.0605 - val_accuracy: 0.9818\n",
            "Epoch 68/100\n",
            "55/55 [==============================] - 1s 12ms/step - loss: 0.0318 - accuracy: 0.9881 - val_loss: 0.0448 - val_accuracy: 0.9795\n",
            "Epoch 69/100\n",
            "55/55 [==============================] - 1s 12ms/step - loss: 0.0456 - accuracy: 0.9824 - val_loss: 0.0964 - val_accuracy: 0.9659\n",
            "Epoch 70/100\n",
            "55/55 [==============================] - 1s 11ms/step - loss: 0.0179 - accuracy: 0.9915 - val_loss: 0.0504 - val_accuracy: 0.9773\n",
            "Epoch 71/100\n",
            "55/55 [==============================] - 1s 17ms/step - loss: 0.0205 - accuracy: 0.9926 - val_loss: 0.0424 - val_accuracy: 0.9795\n",
            "Epoch 72/100\n",
            "55/55 [==============================] - 1s 17ms/step - loss: 0.0282 - accuracy: 0.9892 - val_loss: 0.0712 - val_accuracy: 0.9750\n",
            "Epoch 73/100\n",
            "55/55 [==============================] - 1s 18ms/step - loss: 0.0573 - accuracy: 0.9790 - val_loss: 0.1207 - val_accuracy: 0.9636\n",
            "Epoch 74/100\n",
            "55/55 [==============================] - 1s 12ms/step - loss: 0.0152 - accuracy: 0.9937 - val_loss: 0.0569 - val_accuracy: 0.9818\n",
            "Epoch 75/100\n",
            "55/55 [==============================] - 1s 10ms/step - loss: 0.0169 - accuracy: 0.9937 - val_loss: 0.0705 - val_accuracy: 0.9727\n",
            "Epoch 76/100\n",
            "55/55 [==============================] - 1s 11ms/step - loss: 0.0293 - accuracy: 0.9886 - val_loss: 0.0660 - val_accuracy: 0.9750\n",
            "Epoch 77/100\n",
            "55/55 [==============================] - 1s 11ms/step - loss: 0.0329 - accuracy: 0.9875 - val_loss: 0.0817 - val_accuracy: 0.9682\n",
            "Epoch 78/100\n",
            "55/55 [==============================] - 1s 11ms/step - loss: 0.0170 - accuracy: 0.9926 - val_loss: 0.1100 - val_accuracy: 0.9614\n",
            "Epoch 79/100\n",
            "55/55 [==============================] - 1s 11ms/step - loss: 0.0182 - accuracy: 0.9909 - val_loss: 0.1231 - val_accuracy: 0.9636\n",
            "Epoch 80/100\n",
            "55/55 [==============================] - 1s 11ms/step - loss: 0.0203 - accuracy: 0.9909 - val_loss: 0.0642 - val_accuracy: 0.9795\n",
            "Epoch 81/100\n",
            "55/55 [==============================] - 1s 12ms/step - loss: 0.0124 - accuracy: 0.9932 - val_loss: 0.0472 - val_accuracy: 0.9795\n",
            "Epoch 82/100\n",
            "55/55 [==============================] - 1s 12ms/step - loss: 0.0134 - accuracy: 0.9943 - val_loss: 0.0839 - val_accuracy: 0.9682\n",
            "Epoch 83/100\n",
            "55/55 [==============================] - 1s 11ms/step - loss: 0.0131 - accuracy: 0.9920 - val_loss: 0.0901 - val_accuracy: 0.9659\n",
            "Epoch 84/100\n",
            "55/55 [==============================] - 1s 12ms/step - loss: 0.0213 - accuracy: 0.9903 - val_loss: 0.0945 - val_accuracy: 0.9795\n",
            "Epoch 85/100\n",
            "55/55 [==============================] - 1s 12ms/step - loss: 0.0193 - accuracy: 0.9932 - val_loss: 0.0723 - val_accuracy: 0.9795\n",
            "Epoch 86/100\n",
            "55/55 [==============================] - 1s 12ms/step - loss: 0.0244 - accuracy: 0.9915 - val_loss: 0.1038 - val_accuracy: 0.9659\n",
            "Epoch 87/100\n",
            "55/55 [==============================] - 1s 12ms/step - loss: 0.0704 - accuracy: 0.9790 - val_loss: 0.0486 - val_accuracy: 0.9841\n",
            "Epoch 88/100\n",
            "55/55 [==============================] - 1s 11ms/step - loss: 0.0171 - accuracy: 0.9955 - val_loss: 0.0678 - val_accuracy: 0.9795\n",
            "Epoch 89/100\n",
            "55/55 [==============================] - 1s 13ms/step - loss: 0.0116 - accuracy: 0.9937 - val_loss: 0.0465 - val_accuracy: 0.9818\n",
            "Epoch 90/100\n",
            "55/55 [==============================] - 1s 17ms/step - loss: 0.0187 - accuracy: 0.9920 - val_loss: 0.1239 - val_accuracy: 0.9659\n",
            "Epoch 91/100\n",
            "55/55 [==============================] - 1s 18ms/step - loss: 0.0178 - accuracy: 0.9920 - val_loss: 0.0498 - val_accuracy: 0.9841\n",
            "Epoch 92/100\n",
            "55/55 [==============================] - 1s 17ms/step - loss: 0.0153 - accuracy: 0.9943 - val_loss: 0.0459 - val_accuracy: 0.9795\n",
            "Epoch 93/100\n",
            "55/55 [==============================] - 1s 12ms/step - loss: 0.0117 - accuracy: 0.9943 - val_loss: 0.0536 - val_accuracy: 0.9841\n",
            "Epoch 94/100\n",
            "55/55 [==============================] - 1s 12ms/step - loss: 0.0109 - accuracy: 0.9955 - val_loss: 0.0582 - val_accuracy: 0.9818\n",
            "Epoch 95/100\n",
            "55/55 [==============================] - 1s 12ms/step - loss: 0.0144 - accuracy: 0.9926 - val_loss: 0.0670 - val_accuracy: 0.9818\n",
            "Epoch 96/100\n",
            "55/55 [==============================] - 1s 11ms/step - loss: 0.0114 - accuracy: 0.9955 - val_loss: 0.0568 - val_accuracy: 0.9795\n",
            "Epoch 97/100\n",
            "55/55 [==============================] - 1s 11ms/step - loss: 0.0164 - accuracy: 0.9926 - val_loss: 0.0577 - val_accuracy: 0.9841\n",
            "Epoch 98/100\n",
            "55/55 [==============================] - 1s 12ms/step - loss: 0.0142 - accuracy: 0.9932 - val_loss: 0.0507 - val_accuracy: 0.9750\n",
            "Epoch 99/100\n",
            "55/55 [==============================] - 1s 12ms/step - loss: 0.0111 - accuracy: 0.9955 - val_loss: 0.0506 - val_accuracy: 0.9795\n",
            "Epoch 100/100\n",
            "55/55 [==============================] - 1s 11ms/step - loss: 0.0102 - accuracy: 0.9966 - val_loss: 0.0485 - val_accuracy: 0.9795\n"
          ]
        },
        {
          "output_type": "execute_result",
          "data": {
            "text/plain": [
              "<keras.callbacks.History at 0x7f801f57ff40>"
            ]
          },
          "metadata": {},
          "execution_count": 38
        }
      ]
    },
    {
      "cell_type": "code",
      "source": [
        "#model.predict(features.iloc[0])\n",
        "io = features.iloc[0].values"
      ],
      "metadata": {
        "execution": {
          "iopub.status.busy": "2023-05-05T07:07:58.093921Z",
          "iopub.execute_input": "2023-05-05T07:07:58.094267Z",
          "iopub.status.idle": "2023-05-05T07:07:58.101323Z",
          "shell.execute_reply.started": "2023-05-05T07:07:58.09424Z",
          "shell.execute_reply": "2023-05-05T07:07:58.100404Z"
        },
        "trusted": true,
        "id": "23lS_adXR6N8"
      },
      "execution_count": 36,
      "outputs": []
    },
    {
      "cell_type": "code",
      "source": [
        "tf.constant(io)"
      ],
      "metadata": {
        "execution": {
          "iopub.status.busy": "2023-05-05T07:08:02.574239Z",
          "iopub.execute_input": "2023-05-05T07:08:02.574916Z",
          "iopub.status.idle": "2023-05-05T07:08:02.583235Z",
          "shell.execute_reply.started": "2023-05-05T07:08:02.574882Z",
          "shell.execute_reply": "2023-05-05T07:08:02.582105Z"
        },
        "trusted": true,
        "colab": {
          "base_uri": "https://localhost:8080/"
        },
        "id": "8NE03u-9R6N8",
        "outputId": "fc315ff5-b787-4a0b-e18e-96854553fda6"
      },
      "execution_count": 37,
      "outputs": [
        {
          "output_type": "execute_result",
          "data": {
            "text/plain": [
              "<tf.Tensor: shape=(7,), dtype=float64, numpy=\n",
              "array([ 90.        ,  42.        ,  43.        ,  20.87974371,\n",
              "        82.00274423,   6.50298529, 202.9355362 ])>"
            ]
          },
          "metadata": {},
          "execution_count": 37
        }
      ]
    },
    {
      "cell_type": "code",
      "source": [
        "tf.expand_dims(io, -1)"
      ],
      "metadata": {
        "execution": {
          "iopub.status.busy": "2023-05-05T07:08:35.379764Z",
          "iopub.execute_input": "2023-05-05T07:08:35.380116Z",
          "iopub.status.idle": "2023-05-05T07:08:35.387204Z",
          "shell.execute_reply.started": "2023-05-05T07:08:35.380088Z",
          "shell.execute_reply": "2023-05-05T07:08:35.386127Z"
        },
        "trusted": true,
        "colab": {
          "base_uri": "https://localhost:8080/"
        },
        "id": "pYjW4b8LR6N9",
        "outputId": "3b560a92-a701-467e-ea67-4738f74a61cb"
      },
      "execution_count": 22,
      "outputs": [
        {
          "output_type": "execute_result",
          "data": {
            "text/plain": [
              "<tf.Tensor: shape=(7, 1), dtype=float64, numpy=\n",
              "array([[ 90.        ],\n",
              "       [ 42.        ],\n",
              "       [ 43.        ],\n",
              "       [ 20.87974371],\n",
              "       [ 82.00274423],\n",
              "       [  6.50298529],\n",
              "       [202.9355362 ]])>"
            ]
          },
          "metadata": {},
          "execution_count": 22
        }
      ]
    },
    {
      "cell_type": "code",
      "source": [
        "model.predict(tf.expand_dims(io, 0))"
      ],
      "metadata": {
        "execution": {
          "iopub.status.busy": "2023-05-05T07:09:08.786501Z",
          "iopub.execute_input": "2023-05-05T07:09:08.788598Z",
          "iopub.status.idle": "2023-05-05T07:09:08.897355Z",
          "shell.execute_reply.started": "2023-05-05T07:09:08.788554Z",
          "shell.execute_reply": "2023-05-05T07:09:08.896746Z"
        },
        "trusted": true,
        "colab": {
          "base_uri": "https://localhost:8080/"
        },
        "id": "LZLuBQBvR6N9",
        "outputId": "4a3f3c07-5a31-48c0-95b4-fa95a36fad49"
      },
      "execution_count": 23,
      "outputs": [
        {
          "output_type": "stream",
          "name": "stdout",
          "text": [
            "1/1 [==============================] - 0s 130ms/step\n"
          ]
        },
        {
          "output_type": "execute_result",
          "data": {
            "text/plain": [
              "array([[2.4628455e-22, 1.3821735e-08, 9.9999952e-01, 1.6523391e-17,\n",
              "        3.6949946e-16, 7.0830523e-17, 3.2393898e-13, 2.8637870e-18,\n",
              "        5.1306148e-10, 1.2750963e-24, 5.3110506e-19, 8.8159849e-30,\n",
              "        7.4010317e-14, 1.5010242e-09, 1.4394605e-12, 1.5999343e-30,\n",
              "        3.4962029e-16, 2.2253208e-27, 1.4535266e-07, 3.1753478e-09,\n",
              "        3.4653209e-07, 2.0597926e-13]], dtype=float32)"
            ]
          },
          "metadata": {},
          "execution_count": 23
        }
      ]
    },
    {
      "cell_type": "code",
      "source": [
        "classes.sort()\n",
        "classes"
      ],
      "metadata": {
        "execution": {
          "iopub.status.busy": "2023-05-05T07:10:26.703942Z",
          "iopub.execute_input": "2023-05-05T07:10:26.704286Z",
          "iopub.status.idle": "2023-05-05T07:10:26.714457Z",
          "shell.execute_reply.started": "2023-05-05T07:10:26.704258Z",
          "shell.execute_reply": "2023-05-05T07:10:26.713428Z"
        },
        "trusted": true,
        "colab": {
          "base_uri": "https://localhost:8080/"
        },
        "id": "GjD-1qBSR6N9",
        "outputId": "9a7642e9-b6d2-4562-f6ff-ebf2ddc13752"
      },
      "execution_count": 24,
      "outputs": [
        {
          "output_type": "execute_result",
          "data": {
            "text/plain": [
              "array(['anggur', 'apel', 'beras', 'buncis', 'delima', 'gramhitam',\n",
              "       'jagung', 'jeruk', 'kacanggude', 'kacanghijau', 'kacangmerah',\n",
              "       'kacangngengat', 'katun', 'kelapa', 'kopi', 'lentil', 'mangga',\n",
              "       'melon musk', 'pepaya', 'pisang', 'rami', 'semangka'], dtype=object)"
            ]
          },
          "metadata": {},
          "execution_count": 24
        }
      ]
    },
    {
      "cell_type": "code",
      "source": [
        "model.save('research_recom.h5')\n",
        "model.save('research_recom')"
      ],
      "metadata": {
        "execution": {
          "iopub.status.busy": "2023-05-05T07:19:37.125592Z",
          "iopub.execute_input": "2023-05-05T07:19:37.125981Z",
          "iopub.status.idle": "2023-05-05T07:19:37.165756Z",
          "shell.execute_reply.started": "2023-05-05T07:19:37.125951Z",
          "shell.execute_reply": "2023-05-05T07:19:37.164891Z"
        },
        "trusted": true,
        "id": "THkkO4cRR6N-"
      },
      "execution_count": null,
      "outputs": []
    },
    {
      "cell_type": "code",
      "source": [
        "from pickle import dump\n",
        "dump(scaler, open('scaler.pkl', 'wb'))"
      ],
      "metadata": {
        "execution": {
          "iopub.status.busy": "2023-05-05T07:23:45.089164Z",
          "iopub.execute_input": "2023-05-05T07:23:45.089552Z",
          "iopub.status.idle": "2023-05-05T07:23:45.096671Z",
          "shell.execute_reply.started": "2023-05-05T07:23:45.089523Z",
          "shell.execute_reply": "2023-05-05T07:23:45.095738Z"
        },
        "trusted": true,
        "id": "Or1NPeABR6N-"
      },
      "execution_count": null,
      "outputs": []
    },
    {
      "cell_type": "code",
      "source": [
        "from pickle import load\n",
        "scaler = load(open('scaler.pkl', 'rb'))"
      ],
      "metadata": {
        "execution": {
          "iopub.status.busy": "2023-05-05T07:24:47.821094Z",
          "iopub.execute_input": "2023-05-05T07:24:47.821488Z",
          "iopub.status.idle": "2023-05-05T07:24:47.829332Z",
          "shell.execute_reply.started": "2023-05-05T07:24:47.821458Z",
          "shell.execute_reply": "2023-05-05T07:24:47.828389Z"
        },
        "trusted": true,
        "id": "DNjrLBeOR6N_"
      },
      "execution_count": null,
      "outputs": []
    },
    {
      "cell_type": "code",
      "source": [
        "import h5py\n",
        "import json\n",
        "\n",
        "# Baca file H5\n",
        "filename = 'research_recom.h5'\n",
        "h5_file = h5py.File(filename, 'r')\n",
        "\n",
        "# Ubah objek AttributeManager menjadi kamus\n",
        "json_data = dict(h5_file.attrs)\n",
        "\n",
        "# Konversi kamus menjadi JSON\n",
        "json_data = json.dumps(json_data, indent=4)\n",
        "\n",
        "# Tulis data JSON ke file\n",
        "json_filename = 'ini_json.json'\n",
        "with open(json_filename, 'w') as json_file:\n",
        "    json_file.write(json_data)\n"
      ],
      "metadata": {
        "id": "QB6DRO08UDsI"
      },
      "execution_count": null,
      "outputs": []
    }
  ]
}